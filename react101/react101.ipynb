{
 "cells": [
  {
   "cell_type": "markdown",
   "metadata": {},
   "source": [
    "# React 101"
   ]
  },
  {
   "cell_type": "markdown",
   "metadata": {},
   "source": [
    "React is really just a library that lets you create custom components (a.k.a. elements in html). There's really 3 or so important features that you really have to know about to \"master\" React: dynamic rendering, props, state. Most other things are really just extra sugar on top to handle specific situations (that we will inevitably encounter, but we'll get there when we get there)."
   ]
  },
  {
   "cell_type": "markdown",
   "metadata": {},
   "source": [
    "## Getting Started"
   ]
  },
  {
   "cell_type": "markdown",
   "metadata": {},
   "source": [
    "Tips before we start:\n",
    "- If you haven't already, install a formatter extension for Javascript code into VSCode (if that's what you're using). Either the Prettier or official Javascript/Typescript Nightly extensions will do. Just make sure you DON'T enable \"format on save,\" which can be nice at first but will become a huge pain as you keep developing.\n",
    "- Rewatch the Javascript tutorial to familiarize yourself with the syntax/features. I expect you to know Javsacript at least decently well going into this."
   ]
  },
  {
   "cell_type": "markdown",
   "metadata": {},
   "source": [
    "Let's start by looking at the current state of the project. Since I can't guarantee that the current state of the develop branch is in a consistent one, go ahead and checkout the main branch. If you're using Github Desktop, click as highlighted below and click on the main branch.\n"
   ]
  },
  {
   "cell_type": "markdown",
   "metadata": {},
   "source": [
    "![main](githubcheckout.PNG)"
   ]
  },
  {
   "cell_type": "markdown",
   "metadata": {},
   "source": [
    "To mess around and try things out, we have to start up the development server too. Open up a terminal in the root directory of the project (which you can due using the New Terminal option in VSCode), then change directories into the client and run \"npm start\"."
   ]
  },
  {
   "cell_type": "code",
   "execution_count": null,
   "metadata": {},
   "outputs": [],
   "source": [
    "cd client\n",
    "npm start"
   ]
  },
  {
   "cell_type": "markdown",
   "metadata": {},
   "source": [
    "That should open up a browser tab at the url \"localhost:3000\" (if it doesn't, manually type that into a browser), and the console should show the compilation status of the code (I accidentally left a warning in there, woopsie, don't worry about it for now)."
   ]
  },
  {
   "cell_type": "markdown",
   "metadata": {},
   "source": [
    "## Project Overview & React Tutorial"
   ]
  },
  {
   "cell_type": "markdown",
   "metadata": {},
   "source": [
    "If you feel like you're pretty comfortable with React/the current state of the project, feel free to jump down to the Development section below."
   ]
  },
  {
   "cell_type": "markdown",
   "metadata": {},
   "source": [
    "To see why the website looks the way it currently does, open up App.js inside of the client/src/components/App folder using VSCode. You should see the following:"
   ]
  },
  {
   "cell_type": "code",
   "execution_count": null,
   "metadata": {},
   "outputs": [],
   "source": [
    "import React from \"react\";\n",
    "import { Box, Button } from \"@mui/material\";\n",
    "import TitleBar from \"../TitleBar/TitleBar\";\n",
    "import { apiTestGet } from \"../../api\";\n",
    "\n",
    "// dummy buttion to demonstrate state\n",
    "function CoolButton() {\n",
    "  const [count, setCount] = React.useState(0);\n",
    "  return (\n",
    "    <div>\n",
    "      {count}\n",
    "      <button onClick={() => setCount(count + 1)}>increase count</button>\n",
    "    </div>\n",
    "  );\n",
    "}\n",
    "\n",
    "// the App component, contains the whole app\n",
    "function App() {\n",
    "  return (\n",
    "    <Box sx={{ flexGrow: 1 }}>\n",
    "      <TitleBar title=\"ZotSearch\" />\n",
    "      <div>regular html content</div>\n",
    "      <p>more regular html content</p>\n",
    "      <CoolButton />\n",
    "      {/* dummy button to test api endpoints */}\n",
    "      <Button\n",
    "        variant=\"contained\"\n",
    "        onClick={async () => console.log(await apiTestGet())}\n",
    "      >\n",
    "        Sup\n",
    "      </Button>\n",
    "    </Box>\n",
    "  );\n",
    "}\n",
    "\n",
    "export default App;"
   ]
  },
  {
   "cell_type": "markdown",
   "metadata": {},
   "source": [
    "As you look through the code, you'll notice that we have a couple of parts\n",
    "- a section where we import a bunch of stuff\n",
    "- some function definitions\n",
    "- an export default App statement. \n",
    "Let's look at the imports first."
   ]
  },
  {
   "cell_type": "code",
   "execution_count": null,
   "metadata": {},
   "outputs": [],
   "source": [
    "import React from \"react\";"
   ]
  },
  {
   "cell_type": "markdown",
   "metadata": {},
   "source": [
    "The first import is the React library, which is what lets us write the weird html style code as our functions' outputs. Those \"<\" and \"/>\" element tags are something you don't usually see in regular javascript code, and in fact javascript won't be able to compile them unless React is imported. "
   ]
  },
  {
   "cell_type": "code",
   "execution_count": null,
   "metadata": {},
   "outputs": [],
   "source": [
    "import { Box, Button } from \"@mui/material\";"
   ]
  },
  {
   "cell_type": "markdown",
   "metadata": {},
   "source": [
    "The second import statement is from \"@mui/material,\" which is another library that is installed. The documentation for this library are at https://mui.com/getting-started/installation/. It's basically a library of prebuilt React components that we can configure with props (I'll get into props in a second). This'll save us a lot of time styling and adding functionality to our own custom components. That time will instead be spent reading through documentation and figuring out how to use Mui's components. If you ever don't know what a component looks like or how it should be used, look it up in the documentation."
   ]
  },
  {
   "cell_type": "markdown",
   "metadata": {},
   "source": [
    "Notice that the import from \"@mui/material\" looks different than the first (the imported variables are surrounded by curly brackets). This is because React is the default export from the \"react\" library, whereas Box and Button are just regular imports from \"@mui/material\". In javascript, you have to decide which functions/classes/variables are exported from your .js file, and you do that by stating either \"export class\" or \"export default class.\" A .js file can have multiple regular exports, but only 1 default export. To import a regular export, you use curly brackets, but the default export can be imported without curly brackets. Here's a simple example:"
   ]
  },
  {
   "cell_type": "markdown",
   "metadata": {},
   "source": [
    "### Exports"
   ]
  },
  {
   "cell_type": "markdown",
   "metadata": {},
   "source": [
    "In file a.js:"
   ]
  },
  {
   "cell_type": "code",
   "execution_count": null,
   "metadata": {},
   "outputs": [],
   "source": [
    "export function foo() {\n",
    "    console.log(\"foo\");\n",
    "}\n",
    "export function bar() {\n",
    "    console.log(\"bar\");\n",
    "}\n",
    "export default function baz() {\n",
    "    console.log(\"baz\");\n",
    "}"
   ]
  },
  {
   "cell_type": "markdown",
   "metadata": {},
   "source": [
    "In file b.js:"
   ]
  },
  {
   "cell_type": "code",
   "execution_count": null,
   "metadata": {},
   "outputs": [],
   "source": [
    "import baz, {foo, bar} from \"./a\";\n",
    "foo();\n",
    "bar();\n",
    "baz();"
   ]
  },
  {
   "cell_type": "markdown",
   "metadata": {},
   "source": [
    "In the above example, we export 3 functions in a.js. In this case, I'm putting the export keyword right before the function declaration, which you have to do if it's a regular export. The export default keywords can be put either right before the function/class, or on a separate line (like in App.js). Those functions are then imported inside of b.js. Since baz was the default export, we don't have to put it in curly brackets. Since foo and bar are regular exports, we have to put them in curly brackets, but there can be multiple of them."
   ]
  },
  {
   "cell_type": "markdown",
   "metadata": {},
   "source": [
    "I'll get back to the 3rd import later. Don't worry about the 4th import, I'll save that for another day."
   ]
  },
  {
   "cell_type": "markdown",
   "metadata": {},
   "source": [
    "## Components"
   ]
  },
  {
   "cell_type": "markdown",
   "metadata": {},
   "source": [
    "Let's look at the function declarations for CoolButton and App. Remember when I said that React was just creating custom components? Well you do that just by writing Javascript functions that return html code (technically you can use classes too, but we'll get to that another day). The Javascript functions ARE the components, which means you can include one inside of another. If you look at the function App, it returns something that looks like HTML code. There are some elements with capital letters (Box, TitleBar, CoolButton, Button), and some elements without capital letters (div, p). The capital letters tell you that the element is a React Component, and the elements that are just lowercase are builtin html elements (this isn't always true, it's just convention). You'll notice that one of the elements, CoolButton, is a function that we defined above in the same file. From this, we can infer that that is how we embed components inside of each other, we put them in the <> tags. "
   ]
  },
  {
   "cell_type": "markdown",
   "metadata": {},
   "source": [
    "React Tip! Notice how there's 2 ways to declare elements (it's the same in HTML), showcased below."
   ]
  },
  {
   "cell_type": "code",
   "execution_count": null,
   "metadata": {},
   "outputs": [],
   "source": [
    "<div/>\n",
    "<div></div>"
   ]
  },
  {
   "cell_type": "markdown",
   "metadata": {},
   "source": [
    "The difference is that the second allows you to include either text or children inside of the opening/closing tags, like so:"
   ]
  },
  {
   "cell_type": "code",
   "execution_count": null,
   "metadata": {},
   "outputs": [],
   "source": [
    "<div>\n",
    "    Hey look I'm text\n",
    "    <div>\n",
    "        Hey look I'm a child\n",
    "    </div>\n",
    "</div>"
   ]
  },
  {
   "cell_type": "markdown",
   "metadata": {},
   "source": [
    "But generally, if we don't include text/children inside of the element/component, we use the first way."
   ]
  },
  {
   "cell_type": "markdown",
   "metadata": {},
   "source": [
    "## Subcomponents"
   ]
  },
  {
   "cell_type": "markdown",
   "metadata": {},
   "source": [
    "Now let's look at that 3rd import."
   ]
  },
  {
   "cell_type": "code",
   "execution_count": null,
   "metadata": {},
   "outputs": [],
   "source": [
    "import TitleBar from \"../TitleBar/TitleBar\";"
   ]
  },
  {
   "cell_type": "markdown",
   "metadata": {},
   "source": [
    "The 3rd import is from \"../TitleBar/TitleBar\". What the dots (\".\") tell us is that this import is from our own project folder, not some imported library. A single dot would mean the folder that this current file is in (\"App.js\"), but the double dots (\"..\") mean that we're starting at the parent folder (\"components\"). We then look at the \"TitleBar\" folder inside of the components folder, and then finally at the \"TitleBar.js\" file. If we're importing from a \".js\" file, we don't have to include the \".js\". If we look inside \"TitleBar.js,\" we find: "
   ]
  },
  {
   "cell_type": "code",
   "execution_count": null,
   "metadata": {},
   "outputs": [],
   "source": [
    "import { AppBar, Toolbar, IconButton, Typography, Button } from \"@mui/material\";\n",
    "import MenuIcon from \"@mui/icons-material/Menu\";\n",
    "\n",
    "function TitleBar(props) {\n",
    "  const { title } = props;\n",
    "  return (\n",
    "    <AppBar position=\"static\">\n",
    "      <Toolbar>\n",
    "        <IconButton\n",
    "          size=\"large\"\n",
    "          edge=\"start\"\n",
    "          color=\"inherit\"\n",
    "          aria-label=\"menu\"\n",
    "          sx={{ mr: 2 }}\n",
    "        >\n",
    "          <MenuIcon />\n",
    "        </IconButton>\n",
    "        <Typography variant=\"h6\" component=\"div\" sx={{ flexGrow: 1 }}>\n",
    "          {title}\n",
    "        </Typography>\n",
    "        <Button color=\"inherit\">Login</Button>\n",
    "      </Toolbar>\n",
    "    </AppBar>\n",
    "  );\n",
    "}\n",
    "\n",
    "export default TitleBar;"
   ]
  },
  {
   "cell_type": "markdown",
   "metadata": {},
   "source": [
    "I wouldn't look too much into this yet, but it introduces one of our first main concepts in React: props. "
   ]
  },
  {
   "cell_type": "markdown",
   "metadata": {},
   "source": [
    "## Props"
   ]
  },
  {
   "cell_type": "markdown",
   "metadata": {},
   "source": [
    "Props are those dictionary like things you keep seeing in the elements. If you look inside the App.js file again and look at the return value for the App function, you'll find this element (line 21):"
   ]
  },
  {
   "cell_type": "code",
   "execution_count": null,
   "metadata": {},
   "outputs": [],
   "source": [
    "<TitleBar title=\"ZotSearch\" />"
   ]
  },
  {
   "cell_type": "markdown",
   "metadata": {},
   "source": [
    "Hey, that \"title\" thing look familiar? It's because it was passed in as one of the props to TitleBar in TitleBar.js. We accessed it inside of props like this (line 5):"
   ]
  },
  {
   "cell_type": "code",
   "execution_count": null,
   "metadata": {},
   "outputs": [],
   "source": [
    "const { title } = props;"
   ]
  },
  {
   "cell_type": "markdown",
   "metadata": {},
   "source": [
    "If you remember from the Javascript tutorial, we're using destructuring to access the \"title\" attribute in props, which is a dictionary of the props passed into TitleBar. If you're a little confused on how this works exactly, I would put a console.log(props) inside of TitleBar, like so:"
   ]
  },
  {
   "cell_type": "code",
   "execution_count": null,
   "metadata": {},
   "outputs": [],
   "source": [
    "import { AppBar, Toolbar, IconButton, Typography, Button } from \"@mui/material\";\n",
    "import MenuIcon from \"@mui/icons-material/Menu\";\n",
    "\n",
    "function TitleBar(props) {\n",
    "  console.log(props); // INSERT ME!!!\n",
    "  const { title } = props;\n",
    "  return (\n",
    "    <AppBar position=\"static\">\n",
    "      <Toolbar>\n",
    "        <IconButton\n",
    "          size=\"large\"\n",
    "          edge=\"start\"\n",
    "          color=\"inherit\"\n",
    "          aria-label=\"menu\"\n",
    "          sx={{ mr: 2 }}\n",
    "        >\n",
    "          <MenuIcon />\n",
    "        </IconButton>\n",
    "        <Typography variant=\"h6\" component=\"div\" sx={{ flexGrow: 1 }}>\n",
    "          {title}\n",
    "        </Typography>\n",
    "        <Button color=\"inherit\">Login</Button>\n",
    "      </Toolbar>\n",
    "    </AppBar>\n",
    "  );\n",
    "}\n",
    "\n",
    "export default TitleBar;"
   ]
  },
  {
   "cell_type": "markdown",
   "metadata": {},
   "source": [
    "Then save the file, look back at the website, and open up the console (right click the website and open the Inspector, go to the Console tab). You'll see that props is a dictionary with one key, title, and a value, which is the title you see on the website. "
   ]
  },
  {
   "cell_type": "markdown",
   "metadata": {},
   "source": [
    "Don't worry too much about all the fancy AppBar/Toolbar/IconButton/MenuIcon/Typography stuff, that's just styling. If you want to know more about each of those, look them up in the documentation. Let's focus on that Typography element, which has this odd expression \"{title}\" inside of it. This introduces our second main concept: dynamic rendering."
   ]
  },
  {
   "cell_type": "markdown",
   "metadata": {},
   "source": [
    "## Dynamic Rendering"
   ]
  },
  {
   "cell_type": "markdown",
   "metadata": {},
   "source": [
    "What the curly brackets ({}) do is evaluate the expression in Javascript, and then convert the result into html. In this case, since title is a string, it would convert that string into html, which can then be displayed to the user. If you can imagine, you can put an integer in there, like:"
   ]
  },
  {
   "cell_type": "code",
   "execution_count": null,
   "metadata": {},
   "outputs": [],
   "source": [
    "<Typography variant=\"h6\" component=\"div\" sx={{ flexGrow: 1 }}>\n",
    "    {123}\n",
    "</Typography>"
   ]
  },
  {
   "cell_type": "markdown",
   "metadata": {},
   "source": [
    "Saving this would show the number 123 instead of the given title. This seems pretty legit, but why did we go through all of the trouble of using props/dynamic rendering just to get some simple text on the screen. Couldn't we have just done:"
   ]
  },
  {
   "cell_type": "code",
   "execution_count": null,
   "metadata": {},
   "outputs": [],
   "source": [
    "<Typography variant=\"h6\" component=\"div\" sx={{ flexGrow: 1 }}>\n",
    "    ZotSearch\n",
    "</Typography>"
   ]
  },
  {
   "cell_type": "markdown",
   "metadata": {},
   "source": [
    "And call it a day? Try this yourself and you'll see that it accomplishes the same thing. The reason we go through all that trouble is to make our components reusable. If we wanted a second TitleBar (for whatever reason), all we would have to do is stick another one under the first in App.js:"
   ]
  },
  {
   "cell_type": "code",
   "execution_count": null,
   "metadata": {},
   "outputs": [],
   "source": [
    "function App() {\n",
    "  return (\n",
    "    <Box sx={{ flexGrow: 1 }}>\n",
    "      <TitleBar title=\"ZotSearch\" />\n",
    "      <TitleBar title=\"Hey this is another title bar!\" />\n",
    "    </Box>\n",
    "  );\n",
    "}"
   ]
  },
  {
   "cell_type": "markdown",
   "metadata": {},
   "source": [
    "Now the TitleBar case isn't very practical, but it gives us insight on what kinds of things we can do with React. Now before we go into adding new stuff to our website, let's go over one more concept: state."
   ]
  },
  {
   "cell_type": "markdown",
   "metadata": {},
   "source": [
    "Notice also that in Typography, we have a prop, sx, that has a really weird value:"
   ]
  },
  {
   "cell_type": "code",
   "execution_count": null,
   "metadata": {},
   "outputs": [],
   "source": [
    "<Typography variant=\"h6\" component=\"div\" sx={{ flexGrow: 1 }}>\n",
    "    \n",
    "</Typography>"
   ]
  },
  {
   "cell_type": "markdown",
   "metadata": {},
   "source": [
    "The value of the sx prop is {{ flexGrow: 1}}. Notice how the curly brackets are highlighted in differentt colors. The outer curly brackets tell React that the value insode is going to be a Javascript expression. The Javascript expression can be a number, like 123, or in this case, a dictionary (as indicated by the inner curly brackets). In regular html, the value of a prop has to be a string, but React lets us pass whatever we want into the prop, like arrow functions or dictionaries."
   ]
  },
  {
   "cell_type": "markdown",
   "metadata": {},
   "source": [
    "## State"
   ]
  },
  {
   "cell_type": "markdown",
   "metadata": {},
   "source": [
    "I talked a little bit about state in the React tutorial video, but I just want to make it clear why we need it. Let's say you have three components, Box, Circle, and Triangle, and they are nested like so:"
   ]
  },
  {
   "cell_type": "code",
   "execution_count": null,
   "metadata": {},
   "outputs": [],
   "source": [
    "<Box>\n",
    "    <Circle />\n",
    "    <Triangle />\n",
    "</Box>"
   ]
  },
  {
   "cell_type": "markdown",
   "metadata": {},
   "source": [
    "Let's say inside of the Circle component, there's a button that changes the color of the Circle. If you click on that button, React will \"re-render\" the Circle component, as in it will draw it again to the screen, except this time with a new color. Now, if the Circle changes color, should the Triangle also re-render? It seems like an obvious answer. No! But how does React know whether or not to only re-render Circle? It does it through what's called state. React will only re-render a component if its state gets changed. How does it tell? Let's look at the CoolButton component inside of the App.js file."
   ]
  },
  {
   "cell_type": "code",
   "execution_count": null,
   "metadata": {},
   "outputs": [],
   "source": [
    "function CoolButton() {\n",
    "    const [count, setCount] = React.useState(0);\n",
    "    return (\n",
    "        <div>\n",
    "        {count}\n",
    "        <button onClick={() => setCount(count + 1)}>increase count</button>\n",
    "        </div>\n",
    "    );\n",
    "}"
   ]
  },
  {
   "cell_type": "markdown",
   "metadata": {},
   "source": [
    "The core logic of this function is on line 8, where we use the useState function:"
   ]
  },
  {
   "cell_type": "code",
   "execution_count": null,
   "metadata": {},
   "outputs": [],
   "source": [
    "const [count, setCount] = React.useState(0);"
   ]
  },
  {
   "cell_type": "markdown",
   "metadata": {},
   "source": [
    "Let's break down what this line is doing part by part. If you remember from the Javascript tutorial, this statement is a destructuring assignment statement, kind of like the simple example below:"
   ]
  },
  {
   "cell_type": "code",
   "execution_count": null,
   "metadata": {},
   "outputs": [],
   "source": [
    "const [x, y] = [1, 2];"
   ]
  },
  {
   "cell_type": "markdown",
   "metadata": {},
   "source": [
    "What the code above does is take the value 1, put it inside of the constant variable x, and then take the value 2, and put it inside of the constant variable y. Using that information, we can infer that React.useState returns an array of 2 values. But what are those values?"
   ]
  },
  {
   "cell_type": "markdown",
   "metadata": {},
   "source": [
    "Now remember that the names of the variables on the left are totally up to the programmer (you and I) to decide. The line could have easily been:"
   ]
  },
  {
   "cell_type": "code",
   "execution_count": null,
   "metadata": {},
   "outputs": [],
   "source": [
    "const [foo, bar] = React.useState(0);"
   ]
  },
  {
   "cell_type": "markdown",
   "metadata": {},
   "source": [
    "And it would have functioned exactly the same, but I named them count and setCount to clarify what they do. The useState function returns two things in an array: a variable that you can read from, and a function you can use to set the value of that variable. In the case of CoolButton, it stores a count value that can be read, and a setCount function that sets the value of that count variable. Why do we need this? Why can't we just use:"
   ]
  },
  {
   "cell_type": "code",
   "execution_count": null,
   "metadata": {},
   "outputs": [],
   "source": [
    "count = 5;\n",
    "// instead of \n",
    "setCount(5);"
   ]
  },
  {
   "cell_type": "markdown",
   "metadata": {},
   "source": [
    "The complicated answer is that in Javascript you can't overload the assignment operator. The basic answer is that the setCount function is a function, which means that inside of it, you can imagine it looks something like this:"
   ]
  },
  {
   "cell_type": "code",
   "execution_count": null,
   "metadata": {},
   "outputs": [],
   "source": [
    "function setCount(newValue) {\n",
    "    count = newValue;\n",
    "    rerenderComponentsThatUseCount();\n",
    "}"
   ]
  },
  {
   "cell_type": "markdown",
   "metadata": {},
   "source": [
    "I made up the function rerenderComponentsThatUseCount obviously, but that's basically what the setCount function does, it rerenders components that have to do with count. Now what does \"have to do with\" mean? I wouldn't worry about it for now. It basically means the component that uses this state and any components that take the state variable as a prop."
   ]
  },
  {
   "cell_type": "markdown",
   "metadata": {},
   "source": [
    "The last thing with line 8 is the value 0 that is passed into useState. That argument is the default value for the state variable, in this case \"count\". We start it at 0 so that it won't freak out when we add to it. You don't need to pass in an argument for useState, it will default to null."
   ]
  },
  {
   "cell_type": "markdown",
   "metadata": {},
   "source": [
    "## Development"
   ]
  },
  {
   "cell_type": "markdown",
   "metadata": {},
   "source": [
    "Let's say that we want to add a search bar to our website. Before we even start writing code, we have to think about what want out of this search bar. What do we *need* to implement? What can we compromise? I would like a search bar that spans the full width of the screen and has a little icon button that once you click on it, it will log whatever is inside of the search bar to the console. I don't really care about how ugly it looks yet, that can always be changed later."
   ]
  },
  {
   "cell_type": "markdown",
   "metadata": {},
   "source": [
    "Let's start by cleaning up some of the template code in our App.js file:"
   ]
  },
  {
   "cell_type": "code",
   "execution_count": null,
   "metadata": {},
   "outputs": [],
   "source": [
    "import React from \"react\";\n",
    "// REMOVE THE BUTTON EXPORT\n",
    "import { Box/*, Button */} from \"@mui/material\";\n",
    "import TitleBar from \"../TitleBar/TitleBar\";\n",
    "// REMOVE THIS, WE DON'T NEED IT ANYMORE\n",
    "/* import { apiTestGet } from \"../../api\"; */\n",
    "\n",
    "// REMOVE THIS, WE DON'T NEED IT ANYMORE\n",
    "/*\n",
    "// dummy buttion to demonstrate state\n",
    "function CoolButton() {\n",
    "  const [count, setCount] = React.useState(0);\n",
    "  return (\n",
    "    <div>\n",
    "      {count}\n",
    "      <button onClick={() => setCount(count + 1)}>increase count</button>\n",
    "    </div>\n",
    "  );\n",
    "} */\n",
    "\n",
    "// the App component, contains the whole app\n",
    "function App() {\n",
    "  return (\n",
    "    <Box sx={{ flexGrow: 1 }}>\n",
    "      <TitleBar title=\"ZotSearch\" />\n",
    "      {/* REMOVE ALL OF THIS STUFF TOO */}\n",
    "      {/* <div>regular html content</div>\n",
    "      <p>more regular html content</p>\n",
    "      <CoolButton />\n",
    "      <Button\n",
    "        variant=\"contained\"\n",
    "        onClick={async () => console.log(await apiTestGet())}\n",
    "      >\n",
    "        Sup\n",
    "      </Button> */}\n",
    "    </Box>\n",
    "  );\n",
    "}\n",
    "\n",
    "export default App;"
   ]
  },
  {
   "cell_type": "markdown",
   "metadata": {},
   "source": [
    "That should leave us with:"
   ]
  },
  {
   "cell_type": "code",
   "execution_count": null,
   "metadata": {},
   "outputs": [],
   "source": [
    "import React from \"react\";\n",
    "import { Box } from \"@mui/material\";\n",
    "import TitleBar from \"../TitleBar/TitleBar\";\n",
    "\n",
    "// the App component, contains the whole app\n",
    "function App() {\n",
    "  return (\n",
    "    <Box sx={{ flexGrow: 1 }}>\n",
    "      <TitleBar title=\"ZotSearch\" />\n",
    "    </Box>\n",
    "  );\n",
    "}\n",
    "\n",
    "export default App;"
   ]
  },
  {
   "cell_type": "markdown",
   "metadata": {},
   "source": [
    "Nice and clean. The first thing we want to do before we start writing code is digging through documentation. We look inside of the MUI documentation, and if we can't find what we want, we check the React documentation, and if we can't find what we want again, we look for third-party libraries, and if we can't find what we want, we build the component ourselves. Let's start with the MUI documentation: https://mui.com/getting-started/installation/"
   ]
  },
  {
   "cell_type": "markdown",
   "metadata": {},
   "source": [
    "If you look at the left-hand side, you'll see a couple of sections. The Components section will demo a bunch of the components that the library offers, and the Components API section will provide all of the nitty-gritty details that we need to know to configure the components we're using. I would start by scrolling through the list of demos in the Components section. The first subsection is Inputs, which is probably what we're looking for. Feel free to click on any of the Components and see if it looks right. The Autocomplete input looks interesting, but for simplicity's sake let's look at the Text Field component."
   ]
  },
  {
   "cell_type": "markdown",
   "metadata": {},
   "source": [
    "If you scroll through the demo, you'll see all kinds of different ways to configure the component. Some of them have some \"summary\" source code, like the Basic TextField section, but if you want to see all of the source code, you can do so by clicking one of the buttons underneath each example. I usually click on the first one:"
   ]
  },
  {
   "cell_type": "markdown",
   "metadata": {},
   "source": [
    "![demo](demo.PNG)"
   ]
  },
  {
   "cell_type": "markdown",
   "metadata": {},
   "source": [
    "Inside of the source code, you can see where the examples came from:"
   ]
  },
  {
   "cell_type": "markdown",
   "metadata": {},
   "source": [
    "![demo2](demo2.PNG)"
   ]
  },
  {
   "cell_type": "markdown",
   "metadata": {},
   "source": [
    "Feel free to take some time to examine the source code, especially how each TextField is configured. You can infer that the \"label\" prop controls the label text inside of the component, and the \"variant\" prop changes the look of the TextField. The \"id\" prop doesn't really do anything (it's typically used for styling, but we'll save that for another day). Let's stick one of these into our code now:"
   ]
  },
  {
   "cell_type": "code",
   "execution_count": null,
   "metadata": {},
   "outputs": [],
   "source": [
    "import React from \"react\";\n",
    "// DON'T FORGET TO IMPORT THE COMPONENT\n",
    "import { Box, TextField } from \"@mui/material\";\n",
    "import TitleBar from \"../TitleBar/TitleBar\";\n",
    "\n",
    "// the App component, contains the whole app\n",
    "function App() {\n",
    "  return (\n",
    "    <Box sx={{ flexGrow: 1 }}>\n",
    "      <TitleBar title=\"ZotSearch\" />\n",
    "      <TextField label=\"Search Courses\"/>\n",
    "    </Box>\n",
    "  );\n",
    "}\n",
    "\n",
    "export default App;"
   ]
  },
  {
   "cell_type": "markdown",
   "metadata": {},
   "source": [
    "Notice how I didn't include a \"variant\" prop inside of TextField. It turns out that the prop is optional. How did I know that? Well I went to the TextField API page of the documentation: https://mui.com/api/text-field/.\n",
    "You can find the API page for a component if you use the search bar on the upper right of the page, or if you scroll to the bottom of a demo, you'll find the links to the API pages for the comopnents that were demo'd. The API page shows the list of props for that component, their default values (if they have one), and other nice information about that prop. From this page, I notice that there's a fullWidth prop, and it's false by default. If I want the search bar to span the width of the page, it seems like this prop would be the one to change. Let's try it:"
   ]
  },
  {
   "cell_type": "code",
   "execution_count": null,
   "metadata": {},
   "outputs": [],
   "source": [
    "import React from \"react\";\n",
    "import { Box, TextField } from \"@mui/material\";\n",
    "import TitleBar from \"../TitleBar/TitleBar\";\n",
    "\n",
    "// the App component, contains the whole app\n",
    "function App() {\n",
    "  return (\n",
    "    <Box sx={{ flexGrow: 1 }}>\n",
    "      <TitleBar title=\"ZotSearch\" />\n",
    "      <TextField label=\"Search Courses\" fullWidth={true}/>\n",
    "    </Box>\n",
    "  );\n",
    "}\n",
    "\n",
    "export default App;"
   ]
  },
  {
   "cell_type": "markdown",
   "metadata": {},
   "source": [
    "Notice that I put the value in brackets. That's because React does type checking on props to make sure their value is the right one. In this case, fullWidth has to be a boolean (as indicated in the API documentation), and since booleans are non-strings, they have to go in curly brackets."
   ]
  },
  {
   "cell_type": "markdown",
   "metadata": {},
   "source": [
    "Now that we have the search bar, we need 2 more things. An icon button that will perform the search for us, and some way to access the value inside of the TextField."
   ]
  },
  {
   "cell_type": "markdown",
   "metadata": {},
   "source": [
    "If we keep looking, there's a section for Icons & Input Adornments. It seems like the password button is similar to what we want:"
   ]
  },
  {
   "cell_type": "markdown",
   "metadata": {},
   "source": [
    "![buttons](buttons.PNG)"
   ]
  },
  {
   "cell_type": "markdown",
   "metadata": {},
   "source": [
    "If you look at the source code, it can be a little overwhelming with all of the FormControls and OutLinedInputs. What we can infer from this is that TextField is really just an abstraction over these other components, as in the TextField component is really just a combination of these other components with props to switch between them. What we can infer from this source code is that we can add an icon by using InputProps, endAdornment, and IconButton, like the example below:"
   ]
  },
  {
   "cell_type": "markdown",
   "metadata": {},
   "source": [
    "![adornment](adornment.PNG)"
   ]
  },
  {
   "cell_type": "markdown",
   "metadata": {},
   "source": [
    "Let's break this down piece by piece. The endAdornment prop seems like it takes in a ReactComponent, which in this case is the InputAdornment component. That InputAdornment seems like it can take in either text (like the other examples), or an IconButton component. That IconButton component takes in a couple of props, like onClick, which is probably the function we'll end up modifying to log something to the console, and also has a weird expression inside of it:"
   ]
  },
  {
   "cell_type": "code",
   "execution_count": null,
   "metadata": {},
   "outputs": [],
   "source": [
    "{values.showPassword ? <VisibilityOff /> : <Visibility />}"
   ]
  },
  {
   "cell_type": "markdown",
   "metadata": {},
   "source": [
    "This is a Javascript ternary operator, which means \"if values.showPassword is true, return a VisibilityOff component, else return Visibility.\" Now what are the VisibilityOff/Visibility components? Let's see where they come from. They seem to be imported from \"@mui/icons-material\". "
   ]
  },
  {
   "cell_type": "markdown",
   "metadata": {},
   "source": [
    "![imports](imports.PNG)"
   ]
  },
  {
   "cell_type": "markdown",
   "metadata": {},
   "source": [
    "We can infer that they're probably Icons. How do Icons work in MUI? We can look it up in the documentation. If we go to the search bar and look up icons and click on the first result, we can read up on how Icons work. Don't worry about installing them, I already did. If you scroll down to the Usage section, we can see how to import them. It seems like the TextField demo was using Option 1:"
   ]
  },
  {
   "cell_type": "markdown",
   "metadata": {},
   "source": [
    "![iconsimport](iconsimport.PNG)"
   ]
  },
  {
   "cell_type": "markdown",
   "metadata": {},
   "source": [
    "After importing them, they're really just like any other React component. How do we find the one we want? If we scroll up a little, there's a link to the list of all of the icons that we can search through:"
   ]
  },
  {
   "cell_type": "markdown",
   "metadata": {},
   "source": [
    "![fulllist](fulllist.PNG)"
   ]
  },
  {
   "cell_type": "markdown",
   "metadata": {},
   "source": [
    "Going to that page takes us to a page with all of the icons. One simple search gets us the search icon we were looking for."
   ]
  },
  {
   "cell_type": "markdown",
   "metadata": {},
   "source": [
    "![searchicon](searchicon.PNG)"
   ]
  },
  {
   "cell_type": "markdown",
   "metadata": {},
   "source": [
    "Clicking on the icon shows us how to import it, and bingo, we got what we needed. Let's put it all together now in our own code:"
   ]
  },
  {
   "cell_type": "code",
   "execution_count": null,
   "metadata": {},
   "outputs": [],
   "source": [
    "import React from \"react\";\n",
    "// DON'T FORGET THE IMPORTS\n",
    "import { Box, TextField, InputAdornment, IconButton } from \"@mui/material\";\n",
    "import SearchIcon from '@mui/icons-material/Search';\n",
    "import TitleBar from \"../TitleBar/TitleBar\";\n",
    "\n",
    "// the App component, contains the whole app\n",
    "function App() {\n",
    "  const onSearch = () => {\n",
    "    console.log(\"Search!\");\n",
    "  };\n",
    "  return (\n",
    "    <Box sx={{ flexGrow: 1 }}>\n",
    "      <TitleBar title=\"ZotSearch\" />\n",
    "      <TextField\n",
    "        label=\"Search Courses\"\n",
    "        fullWidth={true}\n",
    "        endAdornment={\n",
    "          <InputAdornment position=\"end\">\n",
    "            <IconButton onClick={onSearch} edge=\"end\">\n",
    "              <SearchIcon />\n",
    "            </IconButton>\n",
    "          </InputAdornment>\n",
    "        }\n",
    "      />\n",
    "    </Box>\n",
    "  );\n",
    "}\n",
    "\n",
    "export default App;\n"
   ]
  },
  {
   "cell_type": "markdown",
   "metadata": {},
   "source": [
    "We added a function that will get called when the button is clicked, onSearch. We also added an endAdornment prop to our TextField that contains an InputAdornment, which is an IconButton of the Search Icon. When the IconButton is clicked, it calls the onSearch function, which logs something to the console. The other props and stuff are really just for styling. We're missing one last thing, which is getting our console.log to log the query inside of TextField to the console. There's only one problem...how do we do that?"
   ]
  },
  {
   "cell_type": "markdown",
   "metadata": {},
   "source": [
    "One option is to add an id to TextField which lets onSearch find the TextField component and grab its value, but that can be kind of ugly/inefficient. The real way is to use Controlled components."
   ]
  },
  {
   "cell_type": "markdown",
   "metadata": {},
   "source": [
    "If you look back at the demo for TextField, it has a section called Uncontrolled vs. Controlled:"
   ]
  },
  {
   "cell_type": "markdown",
   "metadata": {},
   "source": [
    "![control](control.PNG)"
   ]
  },
  {
   "cell_type": "markdown",
   "metadata": {},
   "source": [
    "We can see that TextField can take two props, value and onChange. If you read through the TextField API documentation, you'll find that these props allow you to set the value of the text inside of the text field and detect when there is a change to the text inside of the TextField (i.e. someone typed something). If you look at the source code for this example, you'll see that it handles this through state. Let's copy...I mean be inspired by their code."
   ]
  },
  {
   "cell_type": "code",
   "execution_count": null,
   "metadata": {},
   "outputs": [],
   "source": [
    "// I IMPORTED USESTATE HERE\n",
    "import React, { useState } from \"react\";\n",
    "import { Box, TextField, InputAdornment, IconButton } from \"@mui/material\";\n",
    "import SearchIcon from '@mui/icons-material/Search';\n",
    "import TitleBar from \"../TitleBar/TitleBar\";\n",
    "\n",
    "// the App component, contains the whole app\n",
    "function App() {\n",
    "  const [query, setQuery] = useState(\"\"); // ADDED THIS LINE\n",
    "\n",
    "  const onSearch = () => {\n",
    "    console.log(\"Search for \" + query); // CHANGED THIS LINE\n",
    "  };\n",
    "  return (\n",
    "    <Box sx={{ flexGrow: 1 }}>\n",
    "      <TitleBar title=\"ZotSearch\" />\n",
    "      <TextField\n",
    "        label=\"Search Courses\"\n",
    "        fullWidth={true}\n",
    "        value={query}\n",
    "        onChange={(e)=>setQuery(e.target.value)}\n",
    "        endAdornment={\n",
    "          <InputAdornment position=\"end\">\n",
    "            <IconButton onClick={onSearch} edge=\"end\">\n",
    "              <SearchIcon />\n",
    "            </IconButton>\n",
    "          </InputAdornment>\n",
    "        }\n",
    "      />\n",
    "    </Box>\n",
    "  );\n",
    "}\n",
    "\n",
    "export default App;\n"
   ]
  },
  {
   "cell_type": "markdown",
   "metadata": {},
   "source": [
    "I added a state variable query, that will store the text that's currently in the Search Bar. I also changed the onSearch function to also log the value of the text inside of the search bar. I also added the value and onChange props to the TextField. Why did I use e.target.value? Idk, that's just what the documentation said. But if you modify that arrow function to also log \"e\" to the console, you can see that it contains a lot more data than just the text inside of the TextField. Feel free to do some more digging if you want."
   ]
  },
  {
   "cell_type": "markdown",
   "metadata": {},
   "source": [
    "Now that we have most of the functionality in there, let's reorganize our code to make it cleaner. Let's make the search bar its own component, SearchBar, and that way our App.js file will look a lot cleaner. We can transfer the component to another file, SearchBar.js. We can leave it inside of the client/src/components/App folder."
   ]
  },
  {
   "cell_type": "markdown",
   "metadata": {},
   "source": [
    "In App/SearchBar.js:"
   ]
  },
  {
   "cell_type": "code",
   "execution_count": null,
   "metadata": {},
   "outputs": [],
   "source": [
    "import React from \"react\";\n",
    "import { TextField, InputAdornment, IconButton } from \"@mui/material\";\n",
    "import SearchIcon from '@mui/icons-material/Search';\n",
    "\n",
    "function SearchBar(props) {\n",
    "  const { value, setValue, onSearch } = props;\n",
    "  <TextField\n",
    "    label=\"Search Courses\"\n",
    "    fullWidth={true}\n",
    "    value={value}\n",
    "    onChange={(e) => setValue(e.target.value)}\n",
    "    endAdornment={\n",
    "      <InputAdornment position=\"end\">\n",
    "        <IconButton onClick={onSearch} edge=\"end\">\n",
    "          <SearchIcon />\n",
    "        </IconButton>\n",
    "      </InputAdornment>\n",
    "    }\n",
    "  />;\n",
    "}\n",
    "\n",
    "export default SearchBar;\n"
   ]
  },
  {
   "cell_type": "markdown",
   "metadata": {},
   "source": [
    "In App/App.js"
   ]
  },
  {
   "cell_type": "code",
   "execution_count": null,
   "metadata": {},
   "outputs": [],
   "source": [
    "import React, { useState } from \"react\";\n",
    "import { Box } from \"@mui/material\";\n",
    "import TitleBar from \"../TitleBar/TitleBar\";\n",
    "import SearchBar from \"./SearchBar\";\n",
    "\n",
    "// the App component, contains the whole app\n",
    "function App() {\n",
    "  const [query, setQuery] = useState(\"\");\n",
    "  const onSearch = () => {\n",
    "    console.log(\"Search for \" + query);\n",
    "  };\n",
    "  return (\n",
    "    <Box sx={{ flexGrow: 1 }}>\n",
    "      <TitleBar title=\"ZotSearch\" />\n",
    "      <SearchBar value={query} setValue={setQuery} onSearch={onSearch} />\n",
    "    </Box>\n",
    "  );\n",
    "}\n",
    "\n",
    "export default App;\n"
   ]
  },
  {
   "cell_type": "markdown",
   "metadata": {},
   "source": [
    "A couple of things to point out:\n",
    "- I moved all of the imports that were necessary over: TextField, InputAdornment, IconButton, SearchIcon. I had to import React in SearchBar.js to make my function work as a React Component. I then imported SearchBar into App.js.\n",
    "- I left query, setQuery and onSearch inside App and then passed them as props into SearchBar. Why did I do this? Read this: https://reactjs.org/docs/lifting-state-up.html\n",
    "- I exported default SearchBar in SearchBar.js. This should be our standard style for React components.\n",
    "- I know this doesn't look that much better than what it was before, but trust me. When you have 100 components inside of App, you want each one to be as clean as possible."
   ]
  },
  {
   "cell_type": "markdown",
   "metadata": {},
   "source": [
    "That's basically it for developing in the front end. It's basically a cycle of these things:\n",
    "- Look through documentation to see what you want\n",
    "- Pick and choose what you need to put into your code\n",
    "- Modify stuff using the API pages to configure things to look right\n",
    "- Look up stuff if it breaks/doesn't work/you don't know how to do a specific thing\n",
    "- Clean up your code\n",
    "\n",
    "And if you really want, you can figure out how to style the components to have them look nice."
   ]
  },
  {
   "cell_type": "markdown",
   "metadata": {},
   "source": [
    "And if you couldn't tell from the length of this tutorial, there's a lot to web development, just in the front end alone (the back end is its own beast), so ask questions! Spend some time on it. It'll take a couple of hours just to get one thing in at the beginning, but you'll get better slowly through experience. If you ever want to get on a call and have me walk you through stuff, I'd be happy to. Good luck!"
   ]
  }
 ],
 "metadata": {
  "language_info": {
   "name": "python"
  },
  "orig_nbformat": 4
 },
 "nbformat": 4,
 "nbformat_minor": 2
}
